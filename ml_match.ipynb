{
 "cells": [
  {
   "cell_type": "code",
   "execution_count": null,
   "metadata": {},
   "outputs": [],
   "source": [
    "from sklearn.model_selection import train_test_split\n",
    "from sklearn.ensemble import RandomForestClassifier\n",
    "from sklearn.metrics import accuracy_score, precision_score, recall_score\n",
    "from sklearn.metrics import classification_report\n",
    "import numpy as np\n",
    "\n",
    "# Example data (replace with actual data)\n",
    "# Features: [Jaccard similarity, age difference, gender compatibility]\n",
    "X = np.array([\n",
    "    [0.8, 2, 1],  # High similarity, small age difference, compatible genders\n",
    "    [0.3, 5, 1],  # Low similarity, moderate age difference\n",
    "    [0.6, 0, 0],  # Moderate similarity, same gender\n",
    "    # Add more feature vectors\n",
    "])\n",
    "y = np.array([1, 0, 0])  # Labels: 1 for match, 0 for no match\n",
    "\n",
    "# Split data into training and testing sets\n",
    "X_train, X_test, y_train, y_test = train_test_split(X, y, test_size=0.2, random_state=42)\n",
    "\n",
    "# Initialize and train the classifier\n",
    "model = RandomForestClassifier()\n",
    "model.fit(X_train, y_train)\n",
    "\n",
    "# Make predictions and evaluate\n",
    "y_pred = model.predict(X_test)\n",
    "print(\"Accuracy:\", accuracy_score(y_test, y_pred))\n",
    "print(\"Classification Report:\\n\", classification_report(y_test, y_pred))\n"
   ]
  }
 ],
 "metadata": {
  "language_info": {
   "name": "python"
  }
 },
 "nbformat": 4,
 "nbformat_minor": 2
}
